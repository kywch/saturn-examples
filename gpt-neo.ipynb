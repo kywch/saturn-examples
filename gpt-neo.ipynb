{
 "cells": [
  {
   "cell_type": "markdown",
   "id": "21fb6379",
   "metadata": {},
   "source": [
    "# GPT-Neo 2.7B\n",
    "\n",
    "**GPT-Neo neds pytorch and transformers.**\n",
    "\n",
    "https://huggingface.co/EleutherAI/gpt-neo-2.7B\n",
    "\n",
    "GPT-Neo 2.7B is a transformer model designed using EleutherAI's replication of the GPT-3 architecture. GPT-Neo refers to the class of models, while 2.7B represents the number of parameters of this particular pre-trained model.\n",
    "\n",
    "GPT-Neo 2.7B was trained on the Pile, a large scale curated dataset created by EleutherAI for the purpose of training this model.\n",
    "\n",
    "To download the pre-trained models, uncomment and run the below lines"
   ]
  },
  {
   "cell_type": "code",
   "execution_count": null,
   "id": "87d75401",
   "metadata": {},
   "outputs": [],
   "source": [
    "# the pretrained gpt-neo-2.7B model is 10G\n",
    "\n",
    "#from transformers import AutoTokenizer, AutoModelForCausalLM\n",
    "#tokenizer = AutoTokenizer.from_pretrained(\"EleutherAI/gpt-neo-2.7B\")\n",
    "#model = AutoModelForCausalLM.from_pretrained(\"EleutherAI/gpt-neo-2.7B\")"
   ]
  },
  {
   "cell_type": "code",
   "execution_count": 2,
   "id": "6663c60b",
   "metadata": {},
   "outputs": [],
   "source": [
    "device = 0 # cpu:-1\n",
    "\n",
    "from transformers import pipeline\n",
    "generator = pipeline('text-generation', model='EleutherAI/gpt-neo-2.7B', device=device)"
   ]
  },
  {
   "cell_type": "code",
   "execution_count": 3,
   "id": "ed2f5638",
   "metadata": {},
   "outputs": [
    {
     "name": "stderr",
     "output_type": "stream",
     "text": [
      "Setting `pad_token_id` to `eos_token_id`:50256 for open-end generation.\n"
     ]
    },
    {
     "data": {
      "text/plain": [
       "[{'generated_text': 'Enuma is a popular, free and easy to use 3D modeling program with many advanced features for artists, designers and developers. It is capable of creating scenes, 3D objects, text, audio, image, video, animation and many other elements'}]"
      ]
     },
     "execution_count": 3,
     "metadata": {},
     "output_type": "execute_result"
    }
   ],
   "source": [
    "generator(\"Enuma is\", do_sample=True, min_length=50)"
   ]
  },
  {
   "cell_type": "code",
   "execution_count": null,
   "id": "a34fcaef",
   "metadata": {},
   "outputs": [],
   "source": []
  }
 ],
 "metadata": {
  "kernelspec": {
   "display_name": "saturn pytorch",
   "language": "python",
   "name": "pytorch"
  },
  "language_info": {
   "codemirror_mode": {
    "name": "ipython",
    "version": 3
   },
   "file_extension": ".py",
   "mimetype": "text/x-python",
   "name": "python",
   "nbconvert_exporter": "python",
   "pygments_lexer": "ipython3",
   "version": "3.7.10"
  }
 },
 "nbformat": 4,
 "nbformat_minor": 5
}
