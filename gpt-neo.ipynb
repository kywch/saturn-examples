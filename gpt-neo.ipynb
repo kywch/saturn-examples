{
 "cells": [
  {
   "cell_type": "markdown",
   "id": "601880cf",
   "metadata": {},
   "source": [
    "# GPT-Neo 2.7B\n",
    "\n",
    "**GPT-Neo neds pytorch and transformers.**\n",
    "\n",
    "https://huggingface.co/EleutherAI/gpt-neo-2.7B\n",
    "\n",
    "GPT-Neo 2.7B is a transformer model designed using EleutherAI's replication of the GPT-3 architecture. GPT-Neo refers to the class of models, while 2.7B represents the number of parameters of this particular pre-trained model.\n",
    "\n",
    "GPT-Neo 2.7B was trained on the Pile, a large scale curated dataset created by EleutherAI for the purpose of training this model.\n",
    "\n",
    "To download the pre-trained models, uncomment and run the below lines"
   ]
  },
  {
   "cell_type": "code",
   "execution_count": null,
   "id": "6b1f4ad2",
   "metadata": {},
   "outputs": [],
   "source": [
    "# the pretrained gpt-neo-2.7B model is 10G\n",
    "\n",
    "#from transformers import AutoTokenizer, AutoModelForCausalLM\n",
    "#tokenizer = AutoTokenizer.from_pretrained(\"EleutherAI/gpt-neo-2.7B\")\n",
    "#model = AutoModelForCausalLM.from_pretrained(\"EleutherAI/gpt-neo-2.7B\")"
   ]
  },
  {
   "cell_type": "code",
   "execution_count": 12,
   "id": "b9ca833c",
   "metadata": {},
   "outputs": [],
   "source": [
    "device = 0 # cpu:-1\n",
    "\n",
    "from transformers import pipeline\n",
    "generator = pipeline('text-generation', model='EleutherAI/gpt-neo-2.7B', device=device)"
   ]
  },
  {
   "cell_type": "code",
   "execution_count": 13,
   "id": "668460be",
   "metadata": {},
   "outputs": [
    {
     "name": "stderr",
     "output_type": "stream",
     "text": [
      "Setting `pad_token_id` to `eos_token_id`:50256 for open-end generation.\n"
     ]
    },
    {
     "data": {
      "text/plain": [
       "[{'generated_text': 'Enuma is a new action game from indie studio, Kairo Studio, and is the company’s first game. The game was released on August 2nd and is available on the App Store now. The game features an open-world,'}]"
      ]
     },
     "execution_count": 13,
     "metadata": {},
     "output_type": "execute_result"
    }
   ],
   "source": [
    "generator(\"Enuma is\", do_sample=True, min_length=50)"
   ]
  },
  {
   "cell_type": "code",
   "execution_count": 14,
   "id": "604ce9dc",
   "metadata": {},
   "outputs": [
    {
     "name": "stderr",
     "output_type": "stream",
     "text": [
      "Setting `pad_token_id` to `eos_token_id`:50256 for open-end generation.\n"
     ]
    },
    {
     "data": {
      "text/plain": [
       "[{'generated_text': 'Enuma is the first official game in the popular Fire Emblem series, which has inspired dozens of other franchises since its debut in 1996 as a console game in the Super Famicom (the same Nintendo console that was later used to create the NES game'}]"
      ]
     },
     "execution_count": 14,
     "metadata": {},
     "output_type": "execute_result"
    }
   ],
   "source": [
    "generator(\"Enuma is\", do_sample=True, min_length=50)"
   ]
  },
  {
   "cell_type": "code",
   "execution_count": 15,
   "id": "d1009e7c",
   "metadata": {},
   "outputs": [
    {
     "name": "stderr",
     "output_type": "stream",
     "text": [
      "Setting `pad_token_id` to `eos_token_id`:50256 for open-end generation.\n"
     ]
    },
    {
     "data": {
      "text/plain": [
       "[{'generated_text': 'Enuma is an ancient Japanese sword forged by a legendary samurai warrior who is regarded as one of the greatest samurai leaders in history.\\n\\nThe legendary Asa-Sagiri is said to be the son of a legendary samurai lord, and was'}]"
      ]
     },
     "execution_count": 15,
     "metadata": {},
     "output_type": "execute_result"
    }
   ],
   "source": [
    "generator(\"Enuma is\", do_sample=True, min_length=50)"
   ]
  },
  {
   "cell_type": "code",
   "execution_count": 16,
   "id": "8dcbc7c4",
   "metadata": {},
   "outputs": [
    {
     "name": "stderr",
     "output_type": "stream",
     "text": [
      "Setting `pad_token_id` to `eos_token_id`:50256 for open-end generation.\n"
     ]
    },
    {
     "data": {
      "text/plain": [
       "[{'generated_text': 'Enuma is the largest open source repository for Android builds, maintained by the XDA-developer Cyanogenmod. It is also the most popular and comprehensive repository for ROMs, though it has no official support for custom ROMs. To help'}]"
      ]
     },
     "execution_count": 16,
     "metadata": {},
     "output_type": "execute_result"
    }
   ],
   "source": [
    "generator(\"Enuma is\", do_sample=True, min_length=50)"
   ]
  },
  {
   "cell_type": "code",
   "execution_count": null,
   "id": "b9d892fa",
   "metadata": {},
   "outputs": [],
   "source": []
  }
 ],
 "metadata": {
  "kernelspec": {
   "display_name": "saturn pytorch",
   "language": "python",
   "name": "pytorch"
  },
  "language_info": {
   "codemirror_mode": {
    "name": "ipython",
    "version": 3
   },
   "file_extension": ".py",
   "mimetype": "text/x-python",
   "name": "python",
   "nbconvert_exporter": "python",
   "pygments_lexer": "ipython3",
   "version": "3.7.10"
  }
 },
 "nbformat": 4,
 "nbformat_minor": 5
}
