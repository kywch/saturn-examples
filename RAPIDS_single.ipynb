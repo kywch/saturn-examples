{
 "cells": [
  {
   "cell_type": "markdown",
   "id": "dde19b97-003d-49d5-968a-f0e347fe90c7",
   "metadata": {},
   "source": [
    "# Use RAPIDS on a single GPU\n",
    "\n",
    "https://saturncloud.io/docs/examples/python/rapids/qs-01-rapids-single-gpu/\n"
   ]
  },
  {
   "cell_type": "code",
   "execution_count": 1,
   "id": "cffa6aa8-a801-4868-8b9b-ca78d9469311",
   "metadata": {},
   "outputs": [],
   "source": [
    "import cudf\n",
    "\n",
    "from cuml.ensemble import RandomForestClassifier\n",
    "from cuml.metrics import roc_auc_score\n",
    "from sklearn.metrics import roc_curve\n",
    "\n",
    "import matplotlib.pyplot as plt"
   ]
  },
  {
   "cell_type": "code",
   "execution_count": 2,
   "id": "83335ca4-3fac-473c-b446-b74e2a7b589a",
   "metadata": {},
   "outputs": [],
   "source": [
    "# choose the gpu to use, 0 or 1\n",
    "import cupy\n",
    "\n",
    "# setup memory in the GPU 1\n",
    "cupy.cuda.Device(1).use()"
   ]
  },
  {
   "cell_type": "code",
   "execution_count": 3,
   "id": "da1694bb-9290-4a52-9cb6-ae59171ffb6b",
   "metadata": {},
   "outputs": [],
   "source": [
    "taxi = cudf.read_csv(\n",
    "    \"https://s3.amazonaws.com/nyc-tlc/trip+data/yellow_tripdata_2019-01.csv\",\n",
    "    parse_dates=[\"tpep_pickup_datetime\", \"tpep_dropoff_datetime\"],\n",
    ")"
   ]
  },
  {
   "cell_type": "code",
   "execution_count": 4,
   "id": "5cf6b00f-ab72-426d-bf13-3e6721f48a29",
   "metadata": {},
   "outputs": [
    {
     "name": "stdout",
     "output_type": "stream",
     "text": [
      "Num rows: 7667792, Memory Usage: 1.08 GB\n"
     ]
    }
   ],
   "source": [
    "num_rows = len(taxi)\n",
    "memory_usage = round(taxi.memory_usage(deep=True).sum() / 1e9, 2)\n",
    "print(f\"Num rows: {num_rows}, Memory Usage: {memory_usage} GB\")"
   ]
  },
  {
   "cell_type": "code",
   "execution_count": 5,
   "id": "3fe77a98-d1e2-4859-8cc4-e4cfdb08ba74",
   "metadata": {},
   "outputs": [],
   "source": [
    "def prep_df(df: cudf.DataFrame) -> cudf.DataFrame:\n",
    "\n",
    "    df = df[df[\"fare_amount\"] > 0]  # to avoid a divide by zero error\n",
    "    df[\"tip_fraction\"] = df[\"tip_amount\"] / df[\"fare_amount\"]\n",
    "    df[\"target\"] = df[\"tip_fraction\"] > 0.2\n",
    "\n",
    "    df[\"pickup_weekday\"] = df[\"tpep_pickup_datetime\"].dt.weekday\n",
    "    df[\"pickup_hour\"] = df[\"tpep_pickup_datetime\"].dt.hour\n",
    "    df[\"pickup_week_hour\"] = (df[\"pickup_weekday\"] * 24) + df.pickup_hour\n",
    "    df[\"pickup_minute\"] = df[\"tpep_pickup_datetime\"].dt.minute\n",
    "\n",
    "    df = df[\n",
    "        [\n",
    "            \"pickup_weekday\",\n",
    "            \"pickup_hour\",\n",
    "            \"pickup_week_hour\",\n",
    "            \"pickup_minute\",\n",
    "            \"passenger_count\",\n",
    "            \"PULocationID\",\n",
    "            \"DOLocationID\",\n",
    "            \"target\",\n",
    "        ]\n",
    "    ]\n",
    "\n",
    "    df = df.astype(\"float32\").fillna(-1)\n",
    "    df[\"target\"] = df[\"target\"].astype(\"int32\")\n",
    "\n",
    "    return df"
   ]
  },
  {
   "cell_type": "code",
   "execution_count": 6,
   "id": "78a8c8b3-43e1-4966-a410-97f632614038",
   "metadata": {},
   "outputs": [],
   "source": [
    "taxi = prep_df(taxi)"
   ]
  },
  {
   "cell_type": "code",
   "execution_count": 7,
   "id": "138144f0-23d6-49a1-a9f7-2212776fc691",
   "metadata": {},
   "outputs": [
    {
     "data": {
      "text/plain": [
       "1    0.522546\n",
       "0    0.477454\n",
       "Name: target, dtype: float64"
      ]
     },
     "execution_count": 7,
     "metadata": {},
     "output_type": "execute_result"
    }
   ],
   "source": [
    "taxi[\"target\"].value_counts(normalize=True)"
   ]
  },
  {
   "cell_type": "code",
   "execution_count": 8,
   "id": "04f01dac-8a68-448f-9c65-a521859d9417",
   "metadata": {},
   "outputs": [
    {
     "name": "stdout",
     "output_type": "stream",
     "text": [
      "Num rows: 7658235, Memory Usage: 0.31 GB\n"
     ]
    }
   ],
   "source": [
    "num_rows = len(taxi)\n",
    "memory_usage = round(taxi.memory_usage(deep=True).sum() / 1e9, 2)\n",
    "print(f\"Num rows: {num_rows}, Memory Usage: {memory_usage} GB\")"
   ]
  },
  {
   "cell_type": "code",
   "execution_count": 9,
   "id": "a7d1e155-6005-4ecf-83eb-aa84f02cbca7",
   "metadata": {},
   "outputs": [],
   "source": [
    "X = taxi.drop(columns=[\"target\"])\n",
    "y = taxi[\"target\"]"
   ]
  },
  {
   "cell_type": "code",
   "execution_count": 10,
   "id": "d60d29a5-43dd-45dd-9ecc-63485c2a22b3",
   "metadata": {},
   "outputs": [],
   "source": [
    "rfc = RandomForestClassifier(n_estimators = 100, \n",
    "                             max_depth = 10, \n",
    "                             n_streams = 4, \n",
    "                             verbose = 0)"
   ]
  },
  {
   "cell_type": "code",
   "execution_count": null,
   "id": "9bcdef6c-d80c-43e8-84c2-0d6bbd4f3f47",
   "metadata": {},
   "outputs": [],
   "source": [
    "_ = rfc.fit(X, y)"
   ]
  },
  {
   "cell_type": "code",
   "execution_count": null,
   "id": "bfd1a882-0680-4436-8f2c-346d6039bd46",
   "metadata": {},
   "outputs": [],
   "source": [
    "import numpy as np\n",
    "from cuml.ensemble import RandomForestClassifier as cuRFC\n",
    "\n",
    "X = np.random.normal(size=(10,4)).astype(np.float32)\n",
    "y = np.asarray([0,1]*5, dtype=np.int32)\n",
    "\n",
    "cuml_model = cuRFC(max_features=1.0,\n",
    "                   n_bins=8,\n",
    "                   n_estimators=40)\n",
    "cuml_model.fit(X,y)\n",
    "cuml_predict = cuml_model.predict(X)\n",
    "\n",
    "print(\"Predicted labels : \", cuml_predict)"
   ]
  },
  {
   "cell_type": "code",
   "execution_count": null,
   "id": "017eeb01-cdc6-43dc-b214-5687614a6dfd",
   "metadata": {},
   "outputs": [],
   "source": [
    "import cuml\n",
    "from cuml.datasets.classification import make_classification\n",
    "from cuml.model_selection import train_test_split\n",
    "from cuml.ensemble import RandomForestClassifier as cuRF\n",
    "from sklearn.metrics import accuracy_score\n",
    "from cupy import asnumpy\n",
    "\n",
    "# synthetic dataset dimensions\n",
    "n_samples = 1000\n",
    "n_features = 10\n",
    "n_classes = 2\n",
    "\n",
    "# random forest depth and size\n",
    "n_estimators = 25\n",
    "max_depth = 10\n",
    "\n",
    "# generate synthetic data [ binary classification task ]\n",
    "X, y = make_classification ( n_classes = n_classes,\n",
    "                             n_features = n_features,\n",
    "                             n_samples = n_samples)\n",
    "\n",
    "X_train, X_test, y_train, y_test = train_test_split( X, y, random_state = 0 )\n",
    "\n",
    "model = cuRF( max_depth = max_depth,\n",
    "              n_estimators = n_estimators,\n",
    "              random_state  = 0 )\n",
    "\n",
    "%time trained_RF = model.fit ( X_train, y_train )\n",
    "\n",
    "predictions = model.predict ( X_test )\n",
    "\n",
    "cu_score = cuml.metrics.accuracy_score( y_test, predictions )\n",
    "sk_score = accuracy_score( asnumpy( y_test ), asnumpy( predictions ) )"
   ]
  },
  {
   "cell_type": "code",
   "execution_count": null,
   "id": "d7aabc48-dd5c-46f4-9cb5-d2da43d1e952",
   "metadata": {},
   "outputs": [],
   "source": [
    "from cuml.datasets.classification import make_classification\n",
    "\n",
    "X, y = make_classification(n_samples=10, n_features=4,\n",
    "                           n_informative=2, n_classes=2)\n",
    "\n",
    "print(\"X:\")\n",
    "print(X)\n",
    "\n",
    "print(\"y:\")\n",
    "print(y)"
   ]
  },
  {
   "cell_type": "code",
   "execution_count": null,
   "id": "7e148203-c8fd-46b1-b481-de4b543047b0",
   "metadata": {},
   "outputs": [],
   "source": []
  }
 ],
 "metadata": {
  "kernelspec": {
   "display_name": "RAPIDS",
   "language": "python",
   "name": "saturn-rapids"
  },
  "language_info": {
   "codemirror_mode": {
    "name": "ipython",
    "version": 3
   },
   "file_extension": ".py",
   "mimetype": "text/x-python",
   "name": "python",
   "nbconvert_exporter": "python",
   "pygments_lexer": "ipython3",
   "version": "3.7.12"
  }
 },
 "nbformat": 4,
 "nbformat_minor": 5
}
