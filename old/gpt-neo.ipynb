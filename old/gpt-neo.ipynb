{
 "cells": [
  {
   "cell_type": "markdown",
   "id": "efa7d650",
   "metadata": {},
   "source": [
    "# GPT-Neo 2.7B\n",
    "\n",
    "**GPT-Neo neds pytorch and transformers.**\n",
    "\n",
    "https://huggingface.co/EleutherAI/gpt-neo-2.7B\n",
    "\n",
    "GPT-Neo 2.7B is a transformer model designed using EleutherAI's replication of the GPT-3 architecture. GPT-Neo refers to the class of models, while 2.7B represents the number of parameters of this particular pre-trained model.\n",
    "\n",
    "GPT-Neo 2.7B was trained on the Pile, a large scale curated dataset created by EleutherAI for the purpose of training this model.\n",
    "\n",
    "To download the pre-trained models, uncomment and run the below lines"
   ]
  },
  {
   "cell_type": "code",
   "execution_count": null,
   "id": "51efc639",
   "metadata": {},
   "outputs": [],
   "source": [
    "# the pretrained gpt-neo-2.7B model is 10G\n",
    "\n",
    "#from transformers import AutoTokenizer, AutoModelForCausalLM\n",
    "#tokenizer = AutoTokenizer.from_pretrained(\"EleutherAI/gpt-neo-2.7B\")\n",
    "#model = AutoModelForCausalLM.from_pretrained(\"EleutherAI/gpt-neo-2.7B\")"
   ]
  },
  {
   "cell_type": "code",
   "execution_count": 2,
   "id": "ea8bb751",
   "metadata": {},
   "outputs": [],
   "source": [
    "device = 0 # cpu:-1\n",
    "\n",
    "from transformers import pipeline\n",
    "generator = pipeline('text-generation', model='EleutherAI/gpt-neo-2.7B', device=device)"
   ]
  },
  {
   "cell_type": "code",
   "execution_count": 3,
   "id": "6694caff",
   "metadata": {},
   "outputs": [
    {
     "name": "stderr",
     "output_type": "stream",
     "text": [
      "Setting `pad_token_id` to `eos_token_id`:50256 for open-end generation.\n"
     ]
    },
    {
     "data": {
      "text/plain": [
       "[{'generated_text': 'Enuma is a full service production facility providing services for audio, video, and lighting. They are the experts when it comes to the highest quality performance and sound recording of any kind.\\n\\nThey are also known for their excellent video production services.'}]"
      ]
     },
     "execution_count": 3,
     "metadata": {},
     "output_type": "execute_result"
    }
   ],
   "source": [
    "generator(\"Enuma is\", do_sample=True, min_length=50)"
   ]
  },
  {
   "cell_type": "code",
   "execution_count": 4,
   "id": "c5907141",
   "metadata": {},
   "outputs": [
    {
     "name": "stderr",
     "output_type": "stream",
     "text": [
      "Setting `pad_token_id` to `eos_token_id`:50256 for open-end generation.\n"
     ]
    },
    {
     "data": {
      "text/plain": [
       "[{'generated_text': 'Enuma is a small community in northern Japan, located near the Russian city of Vladivostok. The word enuma, which means \"stone,\" refers to the local geologic formation. Many of the buildings in it are stone structures.\\n'}]"
      ]
     },
     "execution_count": 4,
     "metadata": {},
     "output_type": "execute_result"
    }
   ],
   "source": [
    "generator(\"Enuma is\", do_sample=True, min_length=50)"
   ]
  },
  {
   "cell_type": "code",
   "execution_count": 5,
   "id": "9c82c542",
   "metadata": {},
   "outputs": [
    {
     "name": "stderr",
     "output_type": "stream",
     "text": [
      "Setting `pad_token_id` to `eos_token_id`:50256 for open-end generation.\n"
     ]
    },
    {
     "data": {
      "text/plain": [
       "[{'generated_text': 'Enuma is the first studio album from the band Black Sabbath released by Warner Bros. Records. When released, it reached gold status in Sweden and sold 250,000 copies in the United States. The album\\'s single, \"War Pigs\" was released'}]"
      ]
     },
     "execution_count": 5,
     "metadata": {},
     "output_type": "execute_result"
    }
   ],
   "source": [
    "generator(\"Enuma is\", do_sample=True, min_length=50)"
   ]
  },
  {
   "cell_type": "code",
   "execution_count": 6,
   "id": "53981919",
   "metadata": {},
   "outputs": [
    {
     "name": "stderr",
     "output_type": "stream",
     "text": [
      "Setting `pad_token_id` to `eos_token_id`:50256 for open-end generation.\n"
     ]
    },
    {
     "data": {
      "text/plain": [
       "[{'generated_text': 'Enuma is a 2D puzzle game developed by the German indie studio NINNIE, with a 3D model in engine Unity. It was first launched last year for the game development platform Windows Store and the Mac OSX platform. Now the'}]"
      ]
     },
     "execution_count": 6,
     "metadata": {},
     "output_type": "execute_result"
    }
   ],
   "source": [
    "generator(\"Enuma is\", do_sample=True, min_length=50)"
   ]
  },
  {
   "cell_type": "code",
   "execution_count": null,
   "id": "36250f76",
   "metadata": {},
   "outputs": [],
   "source": []
  }
 ],
 "metadata": {
  "kernelspec": {
   "display_name": "saturn pytorch",
   "language": "python",
   "name": "pytorch"
  },
  "language_info": {
   "codemirror_mode": {
    "name": "ipython",
    "version": 3
   },
   "file_extension": ".py",
   "mimetype": "text/x-python",
   "name": "python",
   "nbconvert_exporter": "python",
   "pygments_lexer": "ipython3",
   "version": "3.7.10"
  }
 },
 "nbformat": 4,
 "nbformat_minor": 5
}
