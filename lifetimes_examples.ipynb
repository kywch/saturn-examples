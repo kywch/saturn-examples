{
 "cells": [
  {
   "cell_type": "markdown",
   "id": "84b790bc",
   "metadata": {},
   "source": [
    "# Modeling retention using lifetimes\n",
    "\n",
    "Main references\n",
    "* https://shopifyengineering.myshopify.com/blogs/engineering/how-shopify-merchants-can-measure-retention\n",
    "* https://lifetimes.readthedocs.io/en/latest/Quickstart.html* \n",
    "\n",
    "Other references\n",
    "* https://ragulpr.github.io/2016/12/22/WTTE-RNN-Hackless-churn-modeling/, \n",
    "* https://github.com/ragulpr\n"
   ]
  },
  {
   "cell_type": "markdown",
   "id": "37c58bdf",
   "metadata": {},
   "source": [
    "## CDNOW data example"
   ]
  },
  {
   "cell_type": "code",
   "execution_count": 2,
   "id": "ca2822bd",
   "metadata": {},
   "outputs": [
    {
     "name": "stdout",
     "output_type": "stream",
     "text": [
      "    frequency  recency      T\n",
      "ID                           \n",
      "1           2    30.43  38.86\n",
      "2           1     1.71  38.86\n",
      "3           0     0.00  38.86\n",
      "4           0     0.00  38.86\n",
      "5           0     0.00  38.86\n",
      "6           7    29.43  38.86\n",
      "7           1     5.00  38.86\n",
      "8           0     0.00  38.86\n",
      "9           2    35.71  38.86\n",
      "10          0     0.00  38.86\n"
     ]
    }
   ],
   "source": [
    "from lifetimes.datasets import load_cdnow_summary\n",
    "data = load_cdnow_summary(index_col=[0])\n",
    "\n",
    "print(data.head(10))"
   ]
  },
  {
   "cell_type": "markdown",
   "id": "2f61b45f",
   "metadata": {},
   "source": [
    "### The variables in the dataset\n",
    "\n",
    "* `frequency`: The count of time periods the customer had a purchase/visit in, *minus the first purchase/visit*\n",
    "* `T`: The age of the customer in whatever time units chosen (weekly, in the above dataset). This is equal to the duration between a customer’s first purchase/visit and the end of the period under study.\n",
    "* `recency`: The duration between a customer’s first purchase/visit and their latest purchase/visit. (Thus if they have made only 1 purchase/visit, the recency is 0.)"
   ]
  },
  {
   "cell_type": "code",
   "execution_count": 3,
   "id": "8b0b0544",
   "metadata": {},
   "outputs": [
    {
     "name": "stdout",
     "output_type": "stream",
     "text": [
      "CPU times: user 192 ms, sys: 4 ms, total: 196 ms\n",
      "Wall time: 213 ms\n",
      "<lifetimes.BetaGeoFitter: fitted with 2357 subjects, a: 0.79, alpha: 4.41, b: 2.43, r: 0.24>\n"
     ]
    }
   ],
   "source": [
    "from lifetimes import BetaGeoFitter\n",
    "\n",
    "# similar API to scikit-learn and lifelines.\n",
    "bgf = BetaGeoFitter(penalizer_coef=0.0)\n",
    "%time bgf.fit(data['frequency'], data['recency'], data['T'])\n",
    "\n",
    "print(bgf)"
   ]
  },
  {
   "cell_type": "code",
   "execution_count": 4,
   "id": "3d96c6e3",
   "metadata": {},
   "outputs": [
    {
     "data": {
      "text/html": [
       "<div>\n",
       "<style scoped>\n",
       "    .dataframe tbody tr th:only-of-type {\n",
       "        vertical-align: middle;\n",
       "    }\n",
       "\n",
       "    .dataframe tbody tr th {\n",
       "        vertical-align: top;\n",
       "    }\n",
       "\n",
       "    .dataframe thead th {\n",
       "        text-align: right;\n",
       "    }\n",
       "</style>\n",
       "<table border=\"1\" class=\"dataframe\">\n",
       "  <thead>\n",
       "    <tr style=\"text-align: right;\">\n",
       "      <th></th>\n",
       "      <th>coef</th>\n",
       "      <th>se(coef)</th>\n",
       "      <th>lower 95% bound</th>\n",
       "      <th>upper 95% bound</th>\n",
       "    </tr>\n",
       "  </thead>\n",
       "  <tbody>\n",
       "    <tr>\n",
       "      <th>r</th>\n",
       "      <td>0.242593</td>\n",
       "      <td>0.012557</td>\n",
       "      <td>0.217981</td>\n",
       "      <td>0.267205</td>\n",
       "    </tr>\n",
       "    <tr>\n",
       "      <th>alpha</th>\n",
       "      <td>4.413532</td>\n",
       "      <td>0.378221</td>\n",
       "      <td>3.672218</td>\n",
       "      <td>5.154846</td>\n",
       "    </tr>\n",
       "    <tr>\n",
       "      <th>a</th>\n",
       "      <td>0.792886</td>\n",
       "      <td>0.185719</td>\n",
       "      <td>0.428877</td>\n",
       "      <td>1.156895</td>\n",
       "    </tr>\n",
       "    <tr>\n",
       "      <th>b</th>\n",
       "      <td>2.425752</td>\n",
       "      <td>0.705345</td>\n",
       "      <td>1.043276</td>\n",
       "      <td>3.808229</td>\n",
       "    </tr>\n",
       "  </tbody>\n",
       "</table>\n",
       "</div>"
      ],
      "text/plain": [
       "           coef  se(coef)  lower 95% bound  upper 95% bound\n",
       "r      0.242593  0.012557         0.217981         0.267205\n",
       "alpha  4.413532  0.378221         3.672218         5.154846\n",
       "a      0.792886  0.185719         0.428877         1.156895\n",
       "b      2.425752  0.705345         1.043276         3.808229"
      ]
     },
     "execution_count": 4,
     "metadata": {},
     "output_type": "execute_result"
    }
   ],
   "source": [
    "bgf.summary"
   ]
  },
  {
   "cell_type": "code",
   "execution_count": 5,
   "id": "5082adcb",
   "metadata": {},
   "outputs": [
    {
     "data": {
      "text/plain": [
       "<AxesSubplot:title={'center':'Expected Number of Future Purchases for 1 Unit of Time,\\nby Frequency and Recency of a Customer'}, xlabel=\"Customer's Historical Frequency\", ylabel=\"Customer's Recency\">"
      ]
     },
     "execution_count": 5,
     "metadata": {},
     "output_type": "execute_result"
    },
    {
     "data": {
      "image/png": "[encoded data removed]",
      "text/plain": [
       "<Figure size 432x288 with 2 Axes>"
      ]
     },
     "metadata": {
      "needs_background": "light"
     },
     "output_type": "display_data"
    }
   ],
   "source": [
    "from lifetimes.plotting import plot_frequency_recency_matrix\n",
    "\n",
    "plot_frequency_recency_matrix(bgf)"
   ]
  },
  {
   "cell_type": "code",
   "execution_count": 6,
   "id": "941ab4d1",
   "metadata": {},
   "outputs": [
    {
     "data": {
      "text/plain": [
       "<AxesSubplot:title={'center':'Probability Customer is Alive,\\nby Frequency and Recency of a Customer'}, xlabel=\"Customer's Historical Frequency\", ylabel=\"Customer's Recency\">"
      ]
     },
     "execution_count": 6,
     "metadata": {},
     "output_type": "execute_result"
    },
    {
     "data": {
      "image/png": "[encoded data removed]",
      "text/plain": [
       "<Figure size 432x288 with 2 Axes>"
      ]
     },
     "metadata": {
      "needs_background": "light"
     },
     "output_type": "display_data"
    }
   ],
   "source": [
    "from lifetimes.plotting import plot_probability_alive_matrix\n",
    "\n",
    "plot_probability_alive_matrix(bgf)"
   ]
  },
  {
   "cell_type": "code",
   "execution_count": 43,
   "id": "d10958ed",
   "metadata": {},
   "outputs": [
    {
     "data": {
      "text/html": [
       "<div>\n",
       "<style scoped>\n",
       "    .dataframe tbody tr th:only-of-type {\n",
       "        vertical-align: middle;\n",
       "    }\n",
       "\n",
       "    .dataframe tbody tr th {\n",
       "        vertical-align: top;\n",
       "    }\n",
       "\n",
       "    .dataframe thead th {\n",
       "        text-align: right;\n",
       "    }\n",
       "</style>\n",
       "<table border=\"1\" class=\"dataframe\">\n",
       "  <thead>\n",
       "    <tr style=\"text-align: right;\">\n",
       "      <th></th>\n",
       "      <th>frequency</th>\n",
       "      <th>recency</th>\n",
       "      <th>T</th>\n",
       "      <th>predicted_purchases</th>\n",
       "    </tr>\n",
       "    <tr>\n",
       "      <th>ID</th>\n",
       "      <th></th>\n",
       "      <th></th>\n",
       "      <th></th>\n",
       "      <th></th>\n",
       "    </tr>\n",
       "  </thead>\n",
       "  <tbody>\n",
       "    <tr>\n",
       "      <th>509</th>\n",
       "      <td>18</td>\n",
       "      <td>35.14</td>\n",
       "      <td>35.86</td>\n",
       "      <td>2.564522</td>\n",
       "    </tr>\n",
       "    <tr>\n",
       "      <th>841</th>\n",
       "      <td>19</td>\n",
       "      <td>34.00</td>\n",
       "      <td>34.14</td>\n",
       "      <td>2.907998</td>\n",
       "    </tr>\n",
       "    <tr>\n",
       "      <th>1981</th>\n",
       "      <td>17</td>\n",
       "      <td>28.43</td>\n",
       "      <td>28.86</td>\n",
       "      <td>2.909434</td>\n",
       "    </tr>\n",
       "    <tr>\n",
       "      <th>157</th>\n",
       "      <td>29</td>\n",
       "      <td>37.71</td>\n",
       "      <td>38.00</td>\n",
       "      <td>4.100775</td>\n",
       "    </tr>\n",
       "    <tr>\n",
       "      <th>1516</th>\n",
       "      <td>26</td>\n",
       "      <td>30.86</td>\n",
       "      <td>31.00</td>\n",
       "      <td>4.344472</td>\n",
       "    </tr>\n",
       "  </tbody>\n",
       "</table>\n",
       "</div>"
      ],
      "text/plain": [
       "      frequency  recency      T  predicted_purchases\n",
       "ID                                                  \n",
       "509          18    35.14  35.86             2.564522\n",
       "841          19    34.00  34.14             2.907998\n",
       "1981         17    28.43  28.86             2.909434\n",
       "157          29    37.71  38.00             4.100775\n",
       "1516         26    30.86  31.00             4.344472"
      ]
     },
     "execution_count": 43,
     "metadata": {},
     "output_type": "execute_result"
    }
   ],
   "source": [
    "t = 7\n",
    "#data['predicted_purchases'] = bgf.conditional_expected_number_of_purchases_up_to_time(t, data['frequency'], data['recency'], data['T'])\n",
    "data['predicted_purchases'] = bgf.predict(t, data['frequency'], data['recency'], data['T'])\n",
    "\n",
    "data.sort_values(by='predicted_purchases').tail(5)"
   ]
  },
  {
   "cell_type": "code",
   "execution_count": 12,
   "id": "a4f19f11",
   "metadata": {},
   "outputs": [
    {
     "data": {
      "text/plain": [
       "<AxesSubplot:title={'center':'Frequency of Repeat Transactions'}, xlabel='Number of Calibration Period Transactions', ylabel='Customers'>"
      ]
     },
     "execution_count": 12,
     "metadata": {},
     "output_type": "execute_result"
    },
    {
     "data": {
      "image/png": "[encoded data removed]",
      "text/plain": [
       "<Figure size 432x288 with 1 Axes>"
      ]
     },
     "metadata": {
      "needs_background": "light"
     },
     "output_type": "display_data"
    }
   ],
   "source": [
    "from lifetimes.plotting import plot_period_transactions\n",
    "plot_period_transactions(bgf)"
   ]
  },
  {
   "cell_type": "markdown",
   "id": "2f0e86ec",
   "metadata": {},
   "source": [
    "## Example transactional data example"
   ]
  },
  {
   "cell_type": "code",
   "execution_count": 34,
   "id": "0094b0ef",
   "metadata": {},
   "outputs": [
    {
     "name": "stdout",
     "output_type": "stream",
     "text": [
      "        date  id\n",
      "0 2014-03-08   0\n",
      "1 2014-05-21   1\n",
      "2 2014-03-14   2\n",
      "3 2014-04-09   2\n",
      "4 2014-05-21   2\n"
     ]
    }
   ],
   "source": [
    "import pandas as pd\n",
    "\n",
    "from lifetimes.datasets import load_transaction_data\n",
    "from lifetimes.utils import summary_data_from_transaction_data\n",
    "\n",
    "transaction_data = load_transaction_data()\n",
    "transaction_data['date'] = pd.to_datetime(transaction_data['date'])\n",
    "print(transaction_data.head())"
   ]
  },
  {
   "cell_type": "code",
   "execution_count": 35,
   "id": "cce597a8",
   "metadata": {},
   "outputs": [
    {
     "name": "stdout",
     "output_type": "stream",
     "text": [
      "    frequency  recency      T\n",
      "id                           \n",
      "0         0.0      0.0  298.0\n",
      "1         0.0      0.0  224.0\n",
      "2         6.0    142.0  292.0\n",
      "3         0.0      0.0  147.0\n",
      "4         2.0      9.0  183.0\n"
     ]
    }
   ],
   "source": [
    "# transforming transactional data (one row per purchase/visit) into summary data (a frequency, recency and age dataset).\n",
    "\n",
    "summary = summary_data_from_transaction_data(transaction_data, 'id', 'date', observation_period_end='2014-12-31')\n",
    "print(summary.head())"
   ]
  },
  {
   "cell_type": "code",
   "execution_count": 36,
   "id": "78cdd95d",
   "metadata": {},
   "outputs": [
    {
     "name": "stdout",
     "output_type": "stream",
     "text": [
      "CPU times: user 176 ms, sys: 0 ns, total: 176 ms\n",
      "Wall time: 177 ms\n"
     ]
    },
    {
     "data": {
      "text/plain": [
       "<lifetimes.BetaGeoFitter: fitted with 5000 subjects, a: 1.85, alpha: 1.86, b: 3.18, r: 0.16>"
      ]
     },
     "execution_count": 36,
     "metadata": {},
     "output_type": "execute_result"
    }
   ],
   "source": [
    "%time bgf.fit(summary['frequency'], summary['recency'], summary['T'])"
   ]
  },
  {
   "cell_type": "code",
   "execution_count": 37,
   "id": "d31d885f",
   "metadata": {},
   "outputs": [
    {
     "name": "stdout",
     "output_type": "stream",
     "text": [
      "    frequency_cal  recency_cal  T_cal  frequency_holdout  duration_holdout\n",
      "id                                                                        \n",
      "0             0.0          0.0  177.0                0.0             121.0\n",
      "1             0.0          0.0  103.0                0.0             121.0\n",
      "2             6.0        142.0  171.0                0.0             121.0\n",
      "3             0.0          0.0   26.0                0.0             121.0\n",
      "4             2.0          9.0   62.0                0.0             121.0\n"
     ]
    }
   ],
   "source": [
    "from lifetimes.utils import calibration_and_holdout_data\n",
    "\n",
    "summary_cal_holdout = calibration_and_holdout_data(transaction_data, 'id', 'date',\n",
    "                                        calibration_period_end='2014-09-01',\n",
    "                                        observation_period_end='2014-12-31' )\n",
    "print(summary_cal_holdout.head())"
   ]
  },
  {
   "cell_type": "code",
   "execution_count": 38,
   "id": "c3de3269",
   "metadata": {},
   "outputs": [
    {
     "data": {
      "text/plain": [
       "<AxesSubplot:title={'center':'Actual Purchases in Holdout Period vs Predicted Purchases'}, xlabel='Purchases in calibration period', ylabel='Average of Purchases in Holdout Period'>"
      ]
     },
     "execution_count": 38,
     "metadata": {},
     "output_type": "execute_result"
    },
    {
     "data": {
      "image/png": "[encoded data removed]",
      "text/plain": [
       "<Figure size 432x288 with 1 Axes>"
      ]
     },
     "metadata": {
      "needs_background": "light"
     },
     "output_type": "display_data"
    }
   ],
   "source": [
    "from lifetimes.plotting import plot_calibration_purchases_vs_holdout_purchases\n",
    "\n",
    "bgf.fit(summary_cal_holdout['frequency_cal'], summary_cal_holdout['recency_cal'], summary_cal_holdout['T_cal'])\n",
    "plot_calibration_purchases_vs_holdout_purchases(bgf, summary_cal_holdout)"
   ]
  },
  {
   "cell_type": "code",
   "execution_count": 39,
   "id": "250331eb",
   "metadata": {},
   "outputs": [
    {
     "data": {
      "text/html": [
       "<div>\n",
       "<style scoped>\n",
       "    .dataframe tbody tr th:only-of-type {\n",
       "        vertical-align: middle;\n",
       "    }\n",
       "\n",
       "    .dataframe tbody tr th {\n",
       "        vertical-align: top;\n",
       "    }\n",
       "\n",
       "    .dataframe thead th {\n",
       "        text-align: right;\n",
       "    }\n",
       "</style>\n",
       "<table border=\"1\" class=\"dataframe\">\n",
       "  <thead>\n",
       "    <tr style=\"text-align: right;\">\n",
       "      <th></th>\n",
       "      <th>coef</th>\n",
       "      <th>se(coef)</th>\n",
       "      <th>lower 95% bound</th>\n",
       "      <th>upper 95% bound</th>\n",
       "    </tr>\n",
       "  </thead>\n",
       "  <tbody>\n",
       "    <tr>\n",
       "      <th>r</th>\n",
       "      <td>0.189680</td>\n",
       "      <td>0.005068</td>\n",
       "      <td>0.179748</td>\n",
       "      <td>0.199613</td>\n",
       "    </tr>\n",
       "    <tr>\n",
       "      <th>alpha</th>\n",
       "      <td>2.263306</td>\n",
       "      <td>0.117234</td>\n",
       "      <td>2.033528</td>\n",
       "      <td>2.493084</td>\n",
       "    </tr>\n",
       "    <tr>\n",
       "      <th>a</th>\n",
       "      <td>1.960002</td>\n",
       "      <td>0.172875</td>\n",
       "      <td>1.621168</td>\n",
       "      <td>2.298837</td>\n",
       "    </tr>\n",
       "    <tr>\n",
       "      <th>b</th>\n",
       "      <td>3.475725</td>\n",
       "      <td>0.391022</td>\n",
       "      <td>2.709322</td>\n",
       "      <td>4.242127</td>\n",
       "    </tr>\n",
       "  </tbody>\n",
       "</table>\n",
       "</div>"
      ],
      "text/plain": [
       "           coef  se(coef)  lower 95% bound  upper 95% bound\n",
       "r      0.189680  0.005068         0.179748         0.199613\n",
       "alpha  2.263306  0.117234         2.033528         2.493084\n",
       "a      1.960002  0.172875         1.621168         2.298837\n",
       "b      3.475725  0.391022         2.709322         4.242127"
      ]
     },
     "execution_count": 39,
     "metadata": {},
     "output_type": "execute_result"
    }
   ],
   "source": [
    "bgf.summary"
   ]
  },
  {
   "cell_type": "code",
   "execution_count": 40,
   "id": "bc8cf1ce",
   "metadata": {},
   "outputs": [
    {
     "data": {
      "text/plain": [
       "0.05765116591827107"
      ]
     },
     "execution_count": 40,
     "metadata": {},
     "output_type": "execute_result"
    }
   ],
   "source": [
    "t = 10 #predict purchases in 10 periods\n",
    "individual = summary.iloc[20]\n",
    "# The below function is an alias to `bfg.conditional_expected_number_of_purchases_up_to_time`\n",
    "bgf.predict(t, individual['frequency'], individual['recency'], individual['T'])\n",
    "# 0.0576511"
   ]
  },
  {
   "cell_type": "code",
   "execution_count": 41,
   "id": "e2b7c5ab",
   "metadata": {},
   "outputs": [
    {
     "data": {
      "text/plain": [
       "<AxesSubplot:title={'center':'History of P_alive'}, ylabel='P_alive'>"
      ]
     },
     "execution_count": 41,
     "metadata": {},
     "output_type": "execute_result"
    },
    {
     "data": {
      "image/png": "[encoded data removed]",
      "text/plain": [
       "<Figure size 432x288 with 1 Axes>"
      ]
     },
     "metadata": {
      "needs_background": "light"
     },
     "output_type": "display_data"
    }
   ],
   "source": [
    "from lifetimes.plotting import plot_history_alive\n",
    "\n",
    "id = 35\n",
    "days_since_birth = 200\n",
    "sp_trans = transaction_data.loc[transaction_data['id'] == id]\n",
    "sp_trans['date'] = pd.to_datetime(sp_trans['date'])\n",
    "\n",
    "plot_history_alive(bgf, days_since_birth, sp_trans, 'date')"
   ]
  },
  {
   "cell_type": "code",
   "execution_count": null,
   "id": "bf916f02",
   "metadata": {},
   "outputs": [],
   "source": []
  }
 ],
 "metadata": {
  "kernelspec": {
   "display_name": "saturn (Python 3)",
   "language": "python",
   "name": "python3"
  },
  "language_info": {
   "codemirror_mode": {
    "name": "ipython",
    "version": 3
   },
   "file_extension": ".py",
   "mimetype": "text/x-python",
   "name": "python",
   "nbconvert_exporter": "python",
   "pygments_lexer": "ipython3",
   "version": "3.7.8"
  }
 },
 "nbformat": 4,
 "nbformat_minor": 5
}
